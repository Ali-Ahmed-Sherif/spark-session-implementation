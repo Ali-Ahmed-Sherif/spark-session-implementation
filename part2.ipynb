{
 "cells": [
  {
   "cell_type": "code",
   "execution_count": 3,
   "id": "30e28277",
   "metadata": {},
   "outputs": [],
   "source": [
    "import pyspark\n",
    "from pyspark.sql import SparkSession\n",
    "import numpy as np"
   ]
  },
  {
   "cell_type": "code",
   "execution_count": 4,
   "id": "c480bf19",
   "metadata": {},
   "outputs": [],
   "source": [
    "spark = SparkSession.builder.getOrCreate()"
   ]
  },
  {
   "cell_type": "code",
   "execution_count": 4,
   "id": "50bc0913",
   "metadata": {},
   "outputs": [],
   "source": [
    "student_data = [('Ahmed',25), ('Mona',30), ('Shahd',17), ('Shahd',22), ('Mona',16)]"
   ]
  },
  {
   "cell_type": "code",
   "execution_count": 5,
   "id": "2301734e",
   "metadata": {},
   "outputs": [
    {
     "name": "stdout",
     "output_type": "stream",
     "text": [
      "+-----+---+\n",
      "| Name|Age|\n",
      "+-----+---+\n",
      "|Ahmed| 25|\n",
      "| Mona| 30|\n",
      "|Shahd| 17|\n",
      "|Shahd| 22|\n",
      "| Mona| 16|\n",
      "+-----+---+\n",
      "\n"
     ]
    }
   ],
   "source": [
    "df_student = spark.createDataFrame(student_data, [\"Name\", \"Age\"])\n",
    "df_student.show()"
   ]
  },
  {
   "cell_type": "code",
   "execution_count": 7,
   "id": "7ce6cf05",
   "metadata": {},
   "outputs": [
    {
     "name": "stdout",
     "output_type": "stream",
     "text": [
      "root\n",
      " |-- Name: string (nullable = true)\n",
      " |-- Age: long (nullable = true)\n",
      "\n"
     ]
    }
   ],
   "source": [
    "df_student.printSchema()"
   ]
  },
  {
   "cell_type": "code",
   "execution_count": 8,
   "id": "d03b3719",
   "metadata": {},
   "outputs": [
    {
     "data": {
      "text/plain": [
       "Column<'Name'>"
      ]
     },
     "execution_count": 8,
     "metadata": {},
     "output_type": "execute_result"
    }
   ],
   "source": [
    "df_student[0]"
   ]
  },
  {
   "cell_type": "code",
   "execution_count": 9,
   "id": "1a5bece8",
   "metadata": {},
   "outputs": [
    {
     "data": {
      "text/plain": [
       "Column<'Name'>"
      ]
     },
     "execution_count": 9,
     "metadata": {},
     "output_type": "execute_result"
    }
   ],
   "source": [
    "df_student.Name"
   ]
  },
  {
   "cell_type": "code",
   "execution_count": 11,
   "id": "12303792",
   "metadata": {},
   "outputs": [
    {
     "name": "stdout",
     "output_type": "stream",
     "text": [
      "+-----+---+\n",
      "| Name|Age|\n",
      "+-----+---+\n",
      "|Ahmed| 25|\n",
      "| Mona| 30|\n",
      "|Shahd| 22|\n",
      "+-----+---+\n",
      "\n"
     ]
    }
   ],
   "source": [
    "df_student20 = df_student.filter(df_student[\"Age\"] > 20)\n",
    "df_student20.show()"
   ]
  },
  {
   "cell_type": "code",
   "execution_count": 13,
   "id": "6294c11c",
   "metadata": {},
   "outputs": [
    {
     "name": "stdout",
     "output_type": "stream",
     "text": [
      "+----+------+\n",
      "| age|  name|\n",
      "+----+------+\n",
      "|NULL| Ahmed|\n",
      "|  30|  Mona|\n",
      "|  19| Shahd|\n",
      "|  19| Shahd|\n",
      "|  25|Khaled|\n",
      "+----+------+\n",
      "\n"
     ]
    }
   ],
   "source": [
    "df_people = spark.read.json(\"/data/people.json\")\n",
    "df_people.show()"
   ]
  },
  {
   "cell_type": "code",
   "execution_count": 20,
   "id": "c2380675",
   "metadata": {},
   "outputs": [
    {
     "name": "stdout",
     "output_type": "stream",
     "text": [
      "+------+--------+\n",
      "|  name|avg(age)|\n",
      "+------+--------+\n",
      "|Khaled|    25.0|\n",
      "| Shahd|    19.0|\n",
      "| Ahmed|    NULL|\n",
      "|  Mona|    30.0|\n",
      "+------+--------+\n",
      "\n"
     ]
    }
   ],
   "source": [
    "df_avg = df_people.groupBy('name').avg('age')\n",
    "df_avg.show()   "
   ]
  },
  {
   "cell_type": "code",
   "execution_count": null,
   "id": "9712a90d",
   "metadata": {},
   "outputs": [],
   "source": [
    "df_avg = df_people.groupBy('name').avg('age')\n",
    "df_avg.show()   "
   ]
  },
  {
   "cell_type": "code",
   "execution_count": 24,
   "id": "7d7b02c1",
   "metadata": {},
   "outputs": [],
   "source": [
    "import pyspark.sql.functions as fun "
   ]
  },
  {
   "cell_type": "code",
   "execution_count": null,
   "id": "f67b939b",
   "metadata": {},
   "outputs": [],
   "source": [
    "df_avg = df_people.groupBy('name').avg().count()\n",
    "df_avg.show()   "
   ]
  },
  {
   "cell_type": "code",
   "execution_count": 28,
   "id": "f66c4d90",
   "metadata": {},
   "outputs": [
    {
     "name": "stdout",
     "output_type": "stream",
     "text": [
      "+------+-------+-------+---------+\n",
      "|  name|avg_age|sum_age|count_age|\n",
      "+------+-------+-------+---------+\n",
      "|Khaled|   25.0|     25|        1|\n",
      "| Shahd|   19.0|     38|        2|\n",
      "| Ahmed|   NULL|   NULL|        0|\n",
      "|  Mona|   30.0|     30|        1|\n",
      "+------+-------+-------+---------+\n",
      "\n"
     ]
    }
   ],
   "source": [
    "df_avg_sum = df_people.groupBy('name').agg(\n",
    "    fun.avg('age').alias('avg_age')\n",
    "    ,fun.sum('age').alias('sum_age')\n",
    "    ,fun.count('age').alias('count_age')\n",
    "                                           )\n",
    "df_avg_sum.show()   "
   ]
  },
  {
   "cell_type": "code",
   "execution_count": 29,
   "id": "10725f93",
   "metadata": {},
   "outputs": [
    {
     "name": "stdout",
     "output_type": "stream",
     "text": [
      "+------+\n",
      "|  name|\n",
      "+------+\n",
      "| Ahmed|\n",
      "|  Mona|\n",
      "| Shahd|\n",
      "| Shahd|\n",
      "|Khaled|\n",
      "+------+\n",
      "\n"
     ]
    }
   ],
   "source": [
    "df_names = df_people.select('name')\n",
    "df_names.show()"
   ]
  },
  {
   "cell_type": "code",
   "execution_count": 33,
   "id": "190e7332",
   "metadata": {},
   "outputs": [
    {
     "name": "stdout",
     "output_type": "stream",
     "text": [
      "root\n",
      " |-- State: string (nullable = true)\n",
      " |-- Color: string (nullable = true)\n",
      " |-- Count: string (nullable = true)\n",
      "\n"
     ]
    }
   ],
   "source": [
    "df_us = spark.read.csv('/data/mnm_dataset.csv', header=True, inferSchema=False)\n",
    "df_us.printSchema()"
   ]
  },
  {
   "cell_type": "code",
   "execution_count": 32,
   "id": "43718598",
   "metadata": {},
   "outputs": [
    {
     "name": "stdout",
     "output_type": "stream",
     "text": [
      "root\n",
      " |-- State: string (nullable = true)\n",
      " |-- Color: string (nullable = true)\n",
      " |-- Count: integer (nullable = true)\n",
      "\n"
     ]
    }
   ],
   "source": [
    "df_us = spark.read.csv('/data/mnm_dataset.csv', header=True, inferSchema=True)\n",
    "df_us.printSchema()"
   ]
  },
  {
   "cell_type": "code",
   "execution_count": 38,
   "id": "e41c2cc4",
   "metadata": {},
   "outputs": [
    {
     "name": "stdout",
     "output_type": "stream",
     "text": [
      "+-----+------+-----+\n",
      "|State| Color|Count|\n",
      "+-----+------+-----+\n",
      "|   TX|   Red|   20|\n",
      "|   NV|  Blue|   66|\n",
      "|   CO|  Blue|   79|\n",
      "|   OR|  Blue|   71|\n",
      "|   WA|Yellow|   93|\n",
      "|   WY|  Blue|   16|\n",
      "|   CA|Yellow|   53|\n",
      "|   WA| Green|   60|\n",
      "|   OR| Green|   71|\n",
      "|   TX| Green|   68|\n",
      "|   NV| Green|   59|\n",
      "|   AZ| Brown|   95|\n",
      "|   WA|Yellow|   20|\n",
      "|   AZ|  Blue|   75|\n",
      "|   OR| Brown|   72|\n",
      "|   NV|   Red|   98|\n",
      "|   WY|Orange|   45|\n",
      "|   CO|  Blue|   52|\n",
      "|   TX| Brown|   94|\n",
      "|   CO|   Red|   82|\n",
      "+-----+------+-----+\n",
      "only showing top 20 rows\n",
      "\n"
     ]
    }
   ],
   "source": [
    "df_us.show()"
   ]
  },
  {
   "cell_type": "code",
   "execution_count": 45,
   "id": "89416abf",
   "metadata": {},
   "outputs": [
    {
     "name": "stdout",
     "output_type": "stream",
     "text": [
      "+-----+------+-------+\n",
      "|State| Color|  Total|\n",
      "+-----+------+-------+\n",
      "|   WY| Green|94339.0|\n",
      "|   NV|   Red|89346.0|\n",
      "|   UT|  Blue|89977.0|\n",
      "|   WA|Orange|91521.0|\n",
      "|   NM| Green|91160.0|\n",
      "|   CA|  Blue|89123.0|\n",
      "|   WA|   Red|93332.0|\n",
      "|   NV| Brown|92478.0|\n",
      "|   AZ| Green|91882.0|\n",
      "|   CA|   Red|91527.0|\n",
      "|   AZ|Orange|91684.0|\n",
      "|   CO|  Blue|93412.0|\n",
      "|   NM|Orange|91251.0|\n",
      "|   NM|Yellow|92747.0|\n",
      "|   WY|Orange|87956.0|\n",
      "|   UT|Yellow|89264.0|\n",
      "|   WY|   Red|91768.0|\n",
      "|   OR|  Blue|90526.0|\n",
      "|   NV|Orange|93929.0|\n",
      "|   AZ|Yellow|90946.0|\n",
      "+-----+------+-------+\n",
      "only showing top 20 rows\n",
      "\n"
     ]
    }
   ],
   "source": [
    "df_us1 = df_us.groupBy('State', 'Color').agg(fun.sum('Count').alias('Total'),)\n",
    "df_us1.show()  "
   ]
  },
  {
   "cell_type": "code",
   "execution_count": 46,
   "id": "db075308",
   "metadata": {},
   "outputs": [
    {
     "name": "stdout",
     "output_type": "stream",
     "text": [
      "+-----+------+-----+\n",
      "|State| Color|Count|\n",
      "+-----+------+-----+\n",
      "|   AZ|Orange|   50|\n",
      "|   AZ| Green|   92|\n",
      "|   AZ|Yellow|   49|\n",
      "|   AZ|Yellow|   83|\n",
      "|   AZ|Yellow|   80|\n",
      "|   AZ| Brown|   95|\n",
      "|   AZ|Yellow|   80|\n",
      "|   AZ|   Red|   59|\n",
      "|   AZ|  Blue|   24|\n",
      "|   AZ|Orange|   54|\n",
      "|   AZ|Yellow|   41|\n",
      "|   AZ|  Blue|   75|\n",
      "|   AZ| Green|   99|\n",
      "|   AZ|Yellow|   72|\n",
      "|   AZ| Brown|   90|\n",
      "|   AZ|Orange|   53|\n",
      "|   AZ|Yellow|   23|\n",
      "|   AZ|  Blue|   82|\n",
      "|   AZ| Brown|   41|\n",
      "|   AZ| Green|   89|\n",
      "+-----+------+-----+\n",
      "only showing top 20 rows\n",
      "\n"
     ]
    }
   ],
   "source": [
    "df_us2 = df_us.sort('State')\n",
    "df_us2.show()"
   ]
  },
  {
   "cell_type": "code",
   "execution_count": 47,
   "id": "202e662d",
   "metadata": {},
   "outputs": [
    {
     "name": "stdout",
     "output_type": "stream",
     "text": [
      "+-----+------+-----+\n",
      "|State| Color|Count|\n",
      "+-----+------+-----+\n",
      "|   WY|   Red|   22|\n",
      "|   WY| Green|   39|\n",
      "|   WY|Yellow|   42|\n",
      "|   WY|Orange|   45|\n",
      "|   WY|  Blue|   59|\n",
      "|   WY|Yellow|   48|\n",
      "|   WY|  Blue|   53|\n",
      "|   WY|Yellow|   56|\n",
      "|   WY| Brown|   87|\n",
      "|   WY|Orange|   23|\n",
      "|   WY| Brown|   43|\n",
      "|   WY| Brown|   30|\n",
      "|   WY|Orange|   81|\n",
      "|   WY|  Blue|   16|\n",
      "|   WY|  Blue|   80|\n",
      "|   WY| Green|   15|\n",
      "|   WY|Orange|   99|\n",
      "|   WY| Brown|   85|\n",
      "|   WY| Brown|   36|\n",
      "|   WY|Yellow|   78|\n",
      "+-----+------+-----+\n",
      "only showing top 20 rows\n",
      "\n"
     ]
    }
   ],
   "source": [
    "df_us2 = df_us.sort('State' , ascending=False)\n",
    "df_us2.show()"
   ]
  },
  {
   "cell_type": "code",
   "execution_count": 48,
   "id": "77b7a01b",
   "metadata": {},
   "outputs": [],
   "source": [
    "from pyspark.sql.types import *"
   ]
  },
  {
   "cell_type": "code",
   "execution_count": 66,
   "id": "86cee947",
   "metadata": {},
   "outputs": [],
   "source": [
    "schema = StructType([\n",
    "    StructField(\"ID\", StringType()),\n",
    "    StructField(\"Names\", StringType()),\n",
    "    StructField(\"Sales\", IntegerType())\n",
    "])"
   ]
  },
  {
   "cell_type": "code",
   "execution_count": 67,
   "id": "fe2b3973",
   "metadata": {},
   "outputs": [
    {
     "name": "stdout",
     "output_type": "stream",
     "text": [
      "root\n",
      " |-- ID: string (nullable = true)\n",
      " |-- Names: string (nullable = true)\n",
      " |-- Sales: integer (nullable = true)\n",
      "\n"
     ]
    }
   ],
   "source": [
    "df_sales = spark.read.csv('/data/NullData.csv', header=True, schema=schema)\n",
    "df_sales.printSchema()"
   ]
  },
  {
   "cell_type": "code",
   "execution_count": 68,
   "id": "cd34c8f3",
   "metadata": {},
   "outputs": [
    {
     "name": "stdout",
     "output_type": "stream",
     "text": [
      "+----+-----+-----+\n",
      "|  ID|Names|Sales|\n",
      "+----+-----+-----+\n",
      "|emp1| John| NULL|\n",
      "|emp2| NULL| NULL|\n",
      "|emp3| NULL| NULL|\n",
      "|emp4|Cindy| NULL|\n",
      "+----+-----+-----+\n",
      "\n"
     ]
    }
   ],
   "source": [
    "df_sales.show()"
   ]
  },
  {
   "cell_type": "code",
   "execution_count": 70,
   "id": "3b0a9d48",
   "metadata": {},
   "outputs": [
    {
     "name": "stdout",
     "output_type": "stream",
     "text": [
      "root\n",
      " |-- ID: integer (nullable = true)\n",
      " |-- Names: string (nullable = true)\n",
      " |-- Sales: integer (nullable = true)\n",
      "\n",
      "+----+-----+-----+\n",
      "|  ID|Names|Sales|\n",
      "+----+-----+-----+\n",
      "|NULL| John| NULL|\n",
      "|NULL| NULL| NULL|\n",
      "|NULL| NULL| NULL|\n",
      "|NULL|Cindy| NULL|\n",
      "+----+-----+-----+\n",
      "\n"
     ]
    }
   ],
   "source": [
    "myschema = 'ID int not null, Names string, Sales int'\n",
    "\n",
    "df_sales = spark.read.csv('/data/NullData.csv', header=True, schema=myschema)\n",
    "df_sales.printSchema()\n",
    "df_sales.show()"
   ]
  },
  {
   "cell_type": "code",
   "execution_count": 72,
   "id": "9c018518",
   "metadata": {},
   "outputs": [],
   "source": [
    "schema = \"`Id` INT, `First` STRING, `Last` STRING, `Url` STRING,`Published` STRING, `Hits` INT, `Campaigns` ARRAY<STRING>\""
   ]
  },
  {
   "cell_type": "code",
   "execution_count": 73,
   "id": "7fde6ed6",
   "metadata": {},
   "outputs": [],
   "source": [
    "data = [[1, \"Jules\", \"Damji\", \"https://tinyurl.1\", \"1/4/2016\", 4535, [\"twitter\",\"LinkedIn\"]],\n",
    "[2, \"Brooke\",\"Wenig\", \"https://tinyurl.2\", \"5/5/2018\", 8908, [\"twitter\",\"LinkedIn\"]],\n",
    "[3, \"Denny\", \"Lee\", \"https://tinyurl.3\", \"6/7/2019\", 7659, [\"web\",\"twitter\", \"FB\", \"LinkedIn\"]],\n",
    "[4, \"Tathagata\", \"Das\", \"https://tinyurl.4\", \"5/12/2018\", 10568,[\"twitter\", \"FB\"]],\n",
    "[5, \"Matei\",\"Zaharia\", \"https://tinyurl.5\", \"5/14/2014\", 40578, [\"web\",\"twitter\", \"FB\", \"LinkedIn\"]],\n",
    "[6, \"Reynold\", \"Xin\", \"https://tinyurl.6\", \"3/2/2015\", 25568,[\"twitter\", \"LinkedIn\"]]]"
   ]
  },
  {
   "cell_type": "code",
   "execution_count": 81,
   "id": "9f2f8b06",
   "metadata": {},
   "outputs": [
    {
     "name": "stdout",
     "output_type": "stream",
     "text": [
      "root\n",
      " |-- _1: long (nullable = true)\n",
      " |-- _2: string (nullable = true)\n",
      " |-- _3: string (nullable = true)\n",
      " |-- _4: string (nullable = true)\n",
      " |-- _5: string (nullable = true)\n",
      " |-- _6: long (nullable = true)\n",
      " |-- _7: array (nullable = true)\n",
      " |    |-- element: string (containsNull = true)\n",
      "\n"
     ]
    }
   ],
   "source": [
    "df_blog = spark.createDataFrame(data)\n",
    "df_blog.printSchema()"
   ]
  },
  {
   "cell_type": "code",
   "execution_count": 82,
   "id": "3b301f54",
   "metadata": {},
   "outputs": [
    {
     "name": "stdout",
     "output_type": "stream",
     "text": [
      "root\n",
      " |-- Id: integer (nullable = true)\n",
      " |-- First: string (nullable = true)\n",
      " |-- Last: string (nullable = true)\n",
      " |-- Url: string (nullable = true)\n",
      " |-- Published: string (nullable = true)\n",
      " |-- Hits: integer (nullable = true)\n",
      " |-- Campaigns: array (nullable = true)\n",
      " |    |-- element: string (containsNull = true)\n",
      "\n",
      "+---+---------+-------+-----------------+---------+-----+--------------------+\n",
      "| Id|    First|   Last|              Url|Published| Hits|           Campaigns|\n",
      "+---+---------+-------+-----------------+---------+-----+--------------------+\n",
      "|  1|    Jules|  Damji|https://tinyurl.1| 1/4/2016| 4535| [twitter, LinkedIn]|\n",
      "|  2|   Brooke|  Wenig|https://tinyurl.2| 5/5/2018| 8908| [twitter, LinkedIn]|\n",
      "|  3|    Denny|    Lee|https://tinyurl.3| 6/7/2019| 7659|[web, twitter, FB...|\n",
      "|  4|Tathagata|    Das|https://tinyurl.4|5/12/2018|10568|       [twitter, FB]|\n",
      "|  5|    Matei|Zaharia|https://tinyurl.5|5/14/2014|40578|[web, twitter, FB...|\n",
      "|  6|  Reynold|    Xin|https://tinyurl.6| 3/2/2015|25568| [twitter, LinkedIn]|\n",
      "+---+---------+-------+-----------------+---------+-----+--------------------+\n",
      "\n"
     ]
    }
   ],
   "source": [
    "df_blog = spark.createDataFrame(data, schema)\n",
    "df_blog.printSchema()\n",
    "df_blog.show()"
   ]
  },
  {
   "cell_type": "code",
   "execution_count": 84,
   "id": "b92120a0",
   "metadata": {},
   "outputs": [
    {
     "name": "stdout",
     "output_type": "stream",
     "text": [
      "+--------------------+\n",
      "|           Campaigns|\n",
      "+--------------------+\n",
      "| [twitter, LinkedIn]|\n",
      "| [twitter, LinkedIn]|\n",
      "|[web, twitter, FB...|\n",
      "|       [twitter, FB]|\n",
      "|[web, twitter, FB...|\n",
      "| [twitter, LinkedIn]|\n",
      "+--------------------+\n",
      "\n"
     ]
    }
   ],
   "source": [
    "df_campaigns = df_blog.select('Campaigns')\n",
    "df_campaigns.show()"
   ]
  },
  {
   "cell_type": "code",
   "execution_count": 86,
   "id": "0ce01597",
   "metadata": {},
   "outputs": [
    {
     "name": "stdout",
     "output_type": "stream",
     "text": [
      "+-----------+\n",
      "|(Hits * 10)|\n",
      "+-----------+\n",
      "|      45350|\n",
      "|      89080|\n",
      "|      76590|\n",
      "|     105680|\n",
      "|     405780|\n",
      "|     255680|\n",
      "+-----------+\n",
      "\n"
     ]
    }
   ],
   "source": [
    "df_hits = df_blog.select(df_blog['Hits'] * 10)\n",
    "df_hits.show()"
   ]
  },
  {
   "cell_type": "code",
   "execution_count": 92,
   "id": "bb855374",
   "metadata": {},
   "outputs": [
    {
     "name": "stdout",
     "output_type": "stream",
     "text": [
      "+------+\n",
      "|  Hits|\n",
      "+------+\n",
      "| 45350|\n",
      "| 89080|\n",
      "| 76590|\n",
      "|105680|\n",
      "|405780|\n",
      "|255680|\n",
      "+------+\n",
      "\n"
     ]
    }
   ],
   "source": [
    "df_hits = df_blog.select((fun.col('Hits') * 10).alias('Hits'))\n",
    "df_hits.show()"
   ]
  },
  {
   "cell_type": "code",
   "execution_count": 107,
   "id": "22336248",
   "metadata": {},
   "outputs": [
    {
     "name": "stdout",
     "output_type": "stream",
     "text": [
      "+---+---------+-------+-----------------+---------+-----+--------------------+------------+\n",
      "| Id|    First|   Last|              Url|Published| Hits|           Campaigns|   Full Name|\n",
      "+---+---------+-------+-----------------+---------+-----+--------------------+------------+\n",
      "|  1|    Jules|  Damji|https://tinyurl.1| 1/4/2016| 4535| [twitter, LinkedIn]|  JulesDamji|\n",
      "|  2|   Brooke|  Wenig|https://tinyurl.2| 5/5/2018| 8908| [twitter, LinkedIn]| BrookeWenig|\n",
      "|  3|    Denny|    Lee|https://tinyurl.3| 6/7/2019| 7659|[web, twitter, FB...|    DennyLee|\n",
      "|  4|Tathagata|    Das|https://tinyurl.4|5/12/2018|10568|       [twitter, FB]|TathagataDas|\n",
      "|  5|    Matei|Zaharia|https://tinyurl.5|5/14/2014|40578|[web, twitter, FB...|MateiZaharia|\n",
      "|  6|  Reynold|    Xin|https://tinyurl.6| 3/2/2015|25568| [twitter, LinkedIn]|  ReynoldXin|\n",
      "+---+---------+-------+-----------------+---------+-----+--------------------+------------+\n",
      "\n"
     ]
    }
   ],
   "source": [
    "df_names = df_blog.withColumn('Full Name', fun.concat(fun.col('First'),  fun.col('Last')))\n",
    "df_names.show()"
   ]
  },
  {
   "cell_type": "code",
   "execution_count": 108,
   "id": "23109f7b",
   "metadata": {},
   "outputs": [
    {
     "name": "stdout",
     "output_type": "stream",
     "text": [
      "+---+---------+-------+-----------------+---------+-----+--------------------+-------------+\n",
      "| Id|    First|   Last|              Url|Published| Hits|           Campaigns|    Full Name|\n",
      "+---+---------+-------+-----------------+---------+-----+--------------------+-------------+\n",
      "|  1|    Jules|  Damji|https://tinyurl.1| 1/4/2016| 4535| [twitter, LinkedIn]|  Jules Damji|\n",
      "|  2|   Brooke|  Wenig|https://tinyurl.2| 5/5/2018| 8908| [twitter, LinkedIn]| Brooke Wenig|\n",
      "|  3|    Denny|    Lee|https://tinyurl.3| 6/7/2019| 7659|[web, twitter, FB...|    Denny Lee|\n",
      "|  4|Tathagata|    Das|https://tinyurl.4|5/12/2018|10568|       [twitter, FB]|Tathagata Das|\n",
      "|  5|    Matei|Zaharia|https://tinyurl.5|5/14/2014|40578|[web, twitter, FB...|Matei Zaharia|\n",
      "|  6|  Reynold|    Xin|https://tinyurl.6| 3/2/2015|25568| [twitter, LinkedIn]|  Reynold Xin|\n",
      "+---+---------+-------+-----------------+---------+-----+--------------------+-------------+\n",
      "\n"
     ]
    }
   ],
   "source": [
    "df_names = df_blog.withColumn('Full Name', fun.concat_ws(' ' ,fun.col('First'),  fun.col('Last')))\n",
    "df_names.show()"
   ]
  },
  {
   "cell_type": "code",
   "execution_count": 112,
   "id": "3d24d6d8",
   "metadata": {},
   "outputs": [
    {
     "name": "stdout",
     "output_type": "stream",
     "text": [
      "+---+---------+-------+-----------------+---------+-----+--------------------+\n",
      "| Id|    First|   Last|              Url|Published| Hits|           Campaigns|\n",
      "+---+---------+-------+-----------------+---------+-----+--------------------+\n",
      "|  5|    Matei|Zaharia|https://tinyurl.5|5/14/2014|40578|[web, twitter, FB...|\n",
      "|  6|  Reynold|    Xin|https://tinyurl.6| 3/2/2015|25568| [twitter, LinkedIn]|\n",
      "|  4|Tathagata|    Das|https://tinyurl.4|5/12/2018|10568|       [twitter, FB]|\n",
      "|  2|   Brooke|  Wenig|https://tinyurl.2| 5/5/2018| 8908| [twitter, LinkedIn]|\n",
      "|  3|    Denny|    Lee|https://tinyurl.3| 6/7/2019| 7659|[web, twitter, FB...|\n",
      "|  1|    Jules|  Damji|https://tinyurl.1| 1/4/2016| 4535| [twitter, LinkedIn]|\n",
      "+---+---------+-------+-----------------+---------+-----+--------------------+\n",
      "\n"
     ]
    }
   ],
   "source": [
    "df_blog1 = df_blog.sort(df_blog['Hits'], ascending=False)\n",
    "df_blog1.show()"
   ]
  },
  {
   "cell_type": "code",
   "execution_count": 113,
   "id": "c58a79cb",
   "metadata": {},
   "outputs": [
    {
     "name": "stdout",
     "output_type": "stream",
     "text": [
      "+---+---------+-------+-----------------+---------+-----+----------------------------+\n",
      "|Id |First    |Last   |Url              |Published|Hits |Campaigns                   |\n",
      "+---+---------+-------+-----------------+---------+-----+----------------------------+\n",
      "|5  |Matei    |Zaharia|https://tinyurl.5|5/14/2014|40578|[web, twitter, FB, LinkedIn]|\n",
      "|6  |Reynold  |Xin    |https://tinyurl.6|3/2/2015 |25568|[twitter, LinkedIn]         |\n",
      "|4  |Tathagata|Das    |https://tinyurl.4|5/12/2018|10568|[twitter, FB]               |\n",
      "|2  |Brooke   |Wenig  |https://tinyurl.2|5/5/2018 |8908 |[twitter, LinkedIn]         |\n",
      "|3  |Denny    |Lee    |https://tinyurl.3|6/7/2019 |7659 |[web, twitter, FB, LinkedIn]|\n",
      "|1  |Jules    |Damji  |https://tinyurl.1|1/4/2016 |4535 |[twitter, LinkedIn]         |\n",
      "+---+---------+-------+-----------------+---------+-----+----------------------------+\n",
      "\n"
     ]
    }
   ],
   "source": [
    "df_blog1 = df_blog.sort(df_blog['Hits'], ascending=False)\n",
    "df_blog1.show(truncate=False)"
   ]
  },
  {
   "cell_type": "code",
   "execution_count": 116,
   "id": "05aa83a4",
   "metadata": {},
   "outputs": [
    {
     "name": "stdout",
     "output_type": "stream",
     "text": [
      "+----+-----+-----+\n",
      "|  Id| Name|Sales|\n",
      "+----+-----+-----+\n",
      "|emp1| John| NULL|\n",
      "|emp2| NULL| NULL|\n",
      "|emp3| NULL|345.0|\n",
      "|emp4|Cindy|456.0|\n",
      "+----+-----+-----+\n",
      "\n"
     ]
    }
   ],
   "source": [
    "df_sales = spark.read.csv('/data/NullData.csv', header=True, inferSchema=True)\n",
    "df_sales.show()"
   ]
  },
  {
   "cell_type": "code",
   "execution_count": 117,
   "id": "118cf99a",
   "metadata": {},
   "outputs": [
    {
     "name": "stdout",
     "output_type": "stream",
     "text": [
      "+----+-----+-----+\n",
      "|  Id| Name|Sales|\n",
      "+----+-----+-----+\n",
      "|emp4|Cindy|456.0|\n",
      "+----+-----+-----+\n",
      "\n"
     ]
    }
   ],
   "source": [
    "df_sales.na.drop().show()"
   ]
  },
  {
   "cell_type": "code",
   "execution_count": 118,
   "id": "d6701193",
   "metadata": {},
   "outputs": [
    {
     "name": "stdout",
     "output_type": "stream",
     "text": [
      "+----+-----+-----+\n",
      "|  Id| Name|Sales|\n",
      "+----+-----+-----+\n",
      "|emp4|Cindy|456.0|\n",
      "+----+-----+-----+\n",
      "\n"
     ]
    }
   ],
   "source": [
    "df_sales.na.drop('any').show()"
   ]
  },
  {
   "cell_type": "code",
   "execution_count": 119,
   "id": "e715eea3",
   "metadata": {},
   "outputs": [
    {
     "name": "stdout",
     "output_type": "stream",
     "text": [
      "+----+-----+-----+\n",
      "|  Id| Name|Sales|\n",
      "+----+-----+-----+\n",
      "|emp1| John| NULL|\n",
      "|emp2| NULL| NULL|\n",
      "|emp3| NULL|345.0|\n",
      "|emp4|Cindy|456.0|\n",
      "+----+-----+-----+\n",
      "\n"
     ]
    }
   ],
   "source": [
    "df_sales.na.drop('all').show()"
   ]
  },
  {
   "cell_type": "code",
   "execution_count": 120,
   "id": "15c90047",
   "metadata": {},
   "outputs": [
    {
     "name": "stdout",
     "output_type": "stream",
     "text": [
      "+----+-----+-----+\n",
      "|  Id| Name|Sales|\n",
      "+----+-----+-----+\n",
      "|emp1| John| NULL|\n",
      "|emp3| NULL|345.0|\n",
      "|emp4|Cindy|456.0|\n",
      "+----+-----+-----+\n",
      "\n"
     ]
    }
   ],
   "source": [
    "df_sales.na.drop(thresh=2).show()"
   ]
  },
  {
   "cell_type": "code",
   "execution_count": 122,
   "id": "a52290f3",
   "metadata": {},
   "outputs": [
    {
     "name": "stdout",
     "output_type": "stream",
     "text": [
      "+----+-----+-----+\n",
      "|  Id| Name|Sales|\n",
      "+----+-----+-----+\n",
      "|emp1| John| NULL|\n",
      "|emp2|   No| NULL|\n",
      "|emp3|   No|345.0|\n",
      "|emp4|Cindy|456.0|\n",
      "+----+-----+-----+\n",
      "\n"
     ]
    }
   ],
   "source": [
    "df_sales.na.fill('No').show()"
   ]
  },
  {
   "cell_type": "code",
   "execution_count": 143,
   "id": "8b8ed65e",
   "metadata": {},
   "outputs": [],
   "source": [
    "df_mean = df_sales.select(fun.mean(df_sales['Sales']))\n",
    "mean = df_mean.collect()[0][0]"
   ]
  },
  {
   "cell_type": "code",
   "execution_count": 146,
   "id": "5bdc2220",
   "metadata": {},
   "outputs": [
    {
     "name": "stdout",
     "output_type": "stream",
     "text": [
      "+----+-----+-----+\n",
      "|  Id| Name|Sales|\n",
      "+----+-----+-----+\n",
      "|emp1| John|400.5|\n",
      "|emp2| NULL|400.5|\n",
      "|emp3| NULL|345.0|\n",
      "|emp4|Cindy|456.0|\n",
      "+----+-----+-----+\n",
      "\n"
     ]
    }
   ],
   "source": [
    "df_sales.na.fill({\"Sales\": mean}).show()\n"
   ]
  },
  {
   "cell_type": "code",
   "execution_count": 149,
   "id": "80e3a7ed",
   "metadata": {},
   "outputs": [
    {
     "name": "stdout",
     "output_type": "stream",
     "text": [
      "+----+-----+-----+\n",
      "|  Id| Name|Sales|\n",
      "+----+-----+-----+\n",
      "|emp1| John|400.5|\n",
      "|emp2|   No|400.5|\n",
      "|emp3|   No|345.0|\n",
      "|emp4|Cindy|456.0|\n",
      "+----+-----+-----+\n",
      "\n"
     ]
    }
   ],
   "source": [
    "df_sales.na.fill({\n",
    "    \"Sales\": mean,\n",
    "    'Name': 'No'\n",
    "                  }).show()\n"
   ]
  },
  {
   "cell_type": "code",
   "execution_count": 154,
   "id": "8e86606b",
   "metadata": {},
   "outputs": [
    {
     "name": "stdout",
     "output_type": "stream",
     "text": [
      "+-----+\n",
      "| Name|\n",
      "+-----+\n",
      "| NULL|\n",
      "|Cindy|\n",
      "+-----+\n",
      "\n"
     ]
    }
   ],
   "source": [
    "df = (df_sales.select('Name')\n",
    "    .where(df_sales['Sales'].isNotNull())\n",
    ")\n",
    "df.show()"
   ]
  },
  {
   "cell_type": "code",
   "execution_count": 156,
   "id": "b23958b2",
   "metadata": {},
   "outputs": [
    {
     "data": {
      "text/plain": [
       "2"
      ]
     },
     "execution_count": 156,
     "metadata": {},
     "output_type": "execute_result"
    }
   ],
   "source": [
    "df = (df_sales.select('Name')\n",
    "    .where(df_sales['Sales'].isNotNull())\n",
    "    .count()\n",
    ")\n",
    "df"
   ]
  }
 ],
 "metadata": {
  "kernelspec": {
   "display_name": "Python 3 (ipykernel)",
   "language": "python",
   "name": "python3"
  },
  "language_info": {
   "codemirror_mode": {
    "name": "ipython",
    "version": 3
   },
   "file_extension": ".py",
   "mimetype": "text/x-python",
   "name": "python",
   "nbconvert_exporter": "python",
   "pygments_lexer": "ipython3",
   "version": "3.11.6"
  }
 },
 "nbformat": 4,
 "nbformat_minor": 5
}
