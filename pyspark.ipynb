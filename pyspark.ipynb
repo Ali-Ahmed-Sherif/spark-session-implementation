{
 "cells": [
  {
   "cell_type": "code",
   "execution_count": 7,
   "id": "6c305eec",
   "metadata": {},
   "outputs": [],
   "source": [
    "import pyspark\n",
    "from pyspark.sql import SparkSession"
   ]
  },
  {
   "cell_type": "code",
   "execution_count": 8,
   "id": "c30f53ce",
   "metadata": {},
   "outputs": [],
   "source": [
    "spark = SparkSession.builder.getOrCreate()"
   ]
  },
  {
   "cell_type": "code",
   "execution_count": 9,
   "id": "64b51b42",
   "metadata": {},
   "outputs": [],
   "source": [
    "# RDD (text: 'this is ssssssssssss') / DF (table schema) sql"
   ]
  },
  {
   "cell_type": "code",
   "execution_count": 10,
   "id": "c322d1af",
   "metadata": {},
   "outputs": [],
   "source": [
    "sc = spark.sparkContext"
   ]
  },
  {
   "cell_type": "code",
   "execution_count": 11,
   "id": "79f5a7f7",
   "metadata": {},
   "outputs": [
    {
     "data": {
      "text/plain": [
       "[1, 2, 3, 4, 5]"
      ]
     },
     "execution_count": 11,
     "metadata": {},
     "output_type": "execute_result"
    }
   ],
   "source": [
    "rdd1 = sc.parallelize([1,2,3,4,5])\n",
    "rdd1.collect()"
   ]
  },
  {
   "cell_type": "code",
   "execution_count": 13,
   "id": "9e0ad00d",
   "metadata": {},
   "outputs": [
    {
     "data": {
      "text/plain": [
       "array([ 1,  2,  3,  4,  5,  6,  7,  8,  9, 10, 11, 12, 13, 14, 15, 16, 17,\n",
       "       18, 19, 20, 21, 22, 23, 24, 25, 26, 27, 28, 29, 30, 31, 32, 33, 34,\n",
       "       35, 36, 37, 38, 39, 40, 41, 42, 43, 44, 45, 46, 47, 48, 49])"
      ]
     },
     "execution_count": 13,
     "metadata": {},
     "output_type": "execute_result"
    }
   ],
   "source": [
    "import numpy as np \n",
    "data = np.arange (1,50)\n",
    "data"
   ]
  },
  {
   "cell_type": "code",
   "execution_count": 14,
   "id": "53def950",
   "metadata": {},
   "outputs": [
    {
     "data": {
      "text/plain": [
       "[1, 2, 3, 4, 5, 6, 7, 8, 9, 10]"
      ]
     },
     "execution_count": 14,
     "metadata": {},
     "output_type": "execute_result"
    }
   ],
   "source": [
    "rdd2 = sc.parallelize(data)\n",
    "rdd2.take(10)"
   ]
  },
  {
   "cell_type": "code",
   "execution_count": 15,
   "id": "e63a8211",
   "metadata": {},
   "outputs": [
    {
     "data": {
      "text/plain": [
       "9"
      ]
     },
     "execution_count": 15,
     "metadata": {},
     "output_type": "execute_result"
    }
   ],
   "source": [
    "def fun1 (x) :\n",
    "    return x ** 2\n",
    "\n",
    "fun1(3)"
   ]
  },
  {
   "cell_type": "code",
   "execution_count": 17,
   "id": "5573dde9",
   "metadata": {},
   "outputs": [
    {
     "data": {
      "text/plain": [
       "[1, 4, 9, 16, 25, 36, 49, 64, 81, 100]"
      ]
     },
     "execution_count": 17,
     "metadata": {},
     "output_type": "execute_result"
    }
   ],
   "source": [
    "rdd3 = rdd2.map(fun1)\n",
    "rdd3.take(10)"
   ]
  },
  {
   "cell_type": "code",
   "execution_count": 18,
   "id": "c673b1c8",
   "metadata": {},
   "outputs": [
    {
     "data": {
      "text/plain": [
       "[1, 4, 9, 16, 25, 36, 49, 64, 81, 100]"
      ]
     },
     "execution_count": 18,
     "metadata": {},
     "output_type": "execute_result"
    }
   ],
   "source": [
    "rdd3 = rdd2.map(lambda x : x ** 2 )\n",
    "rdd3.take(10)"
   ]
  },
  {
   "cell_type": "code",
   "execution_count": null,
   "id": "2aecdb37",
   "metadata": {},
   "outputs": [],
   "source": [
    "# spark -> lazy algorithm "
   ]
  },
  {
   "cell_type": "code",
   "execution_count": 19,
   "id": "6f381921",
   "metadata": {},
   "outputs": [],
   "source": [
    "rdd4 = rdd2.map(lambda x : x + 5)\n",
    "rdd5 = rdd4.map(lambda x : x / 2)\n",
    "rdd6 = rdd5.map(lambda x : x - 15)"
   ]
  },
  {
   "cell_type": "code",
   "execution_count": 20,
   "id": "1ce454ea",
   "metadata": {},
   "outputs": [
    {
     "data": {
      "text/plain": [
       "[-12.0, -11.5, -11.0, -10.5, -10.0, -9.5, -9.0, -8.5, -8.0, -7.5]"
      ]
     },
     "execution_count": 20,
     "metadata": {},
     "output_type": "execute_result"
    }
   ],
   "source": [
    "rdd6.take(10)"
   ]
  },
  {
   "cell_type": "code",
   "execution_count": 22,
   "id": "06980417",
   "metadata": {},
   "outputs": [
    {
     "data": {
      "text/plain": [
       "[-12.0, -11.5, -11.0, -10.5, -10.0, -9.5, -9.0, -8.5, -8.0, -7.5]"
      ]
     },
     "execution_count": 22,
     "metadata": {},
     "output_type": "execute_result"
    }
   ],
   "source": [
    "rdd7 = rdd2.map(lambda x : x + 5).map(lambda x : x / 2).map(lambda x : x - 15)\n",
    "rdd7.take(10)"
   ]
  },
  {
   "cell_type": "code",
   "execution_count": 23,
   "id": "0977c7ed",
   "metadata": {},
   "outputs": [
    {
     "data": {
      "text/plain": [
       "[1, 2, 3, 4, 5, 6, 7, 8, 9, 10]"
      ]
     },
     "execution_count": 23,
     "metadata": {},
     "output_type": "execute_result"
    }
   ],
   "source": [
    "rdd2.take(10)"
   ]
  },
  {
   "cell_type": "code",
   "execution_count": 25,
   "id": "22c20687",
   "metadata": {},
   "outputs": [
    {
     "name": "stdout",
     "output_type": "stream",
     "text": [
      "[2, 4, 6, 8, 10, 12, 14, 16, 18, 20, 22, 24, 26, 28, 30, 32, 34, 36, 38, 40, 42, 44, 46, 48]\n"
     ]
    }
   ],
   "source": [
    "rdd8 = rdd2.filter(lambda x : x % 2 == 0)    # True False\n",
    "print(rdd8.collect())"
   ]
  },
  {
   "cell_type": "code",
   "execution_count": 26,
   "id": "132ab534",
   "metadata": {},
   "outputs": [
    {
     "name": "stdout",
     "output_type": "stream",
     "text": [
      "[2, 4, 6, 10, 12, 14, 16, 18, 20, 22, 24, 26, 28, 30, 32, 34, 36, 38, 40, 42, 44, 46, 48]\n"
     ]
    }
   ],
   "source": [
    "rdd8 = rdd2.filter(lambda x : x % 2 == 0 and  x != 8)    # True False\n",
    "print(rdd8.collect())"
   ]
  },
  {
   "cell_type": "code",
   "execution_count": 27,
   "id": "0e85bf8e",
   "metadata": {},
   "outputs": [
    {
     "name": "stdout",
     "output_type": "stream",
     "text": [
      "[1, 11, 13, 17, 19, 23, 29, 31, 37, 41, 43, 47]\n"
     ]
    }
   ],
   "source": [
    "rdd9 = rdd2.filter(lambda x : x % 2 != 0 and  x % 3 != 0  and x % 5 != 0 and x % 7 != 0)    # True False\n",
    "print(rdd9.collect())"
   ]
  },
  {
   "cell_type": "code",
   "execution_count": 28,
   "id": "5a286674",
   "metadata": {},
   "outputs": [
    {
     "data": {
      "text/plain": [
       "12"
      ]
     },
     "execution_count": 28,
     "metadata": {},
     "output_type": "execute_result"
    }
   ],
   "source": [
    "rdd9.count()"
   ]
  },
  {
   "cell_type": "code",
   "execution_count": 29,
   "id": "46a8ef06",
   "metadata": {},
   "outputs": [
    {
     "data": {
      "text/plain": [
       "1"
      ]
     },
     "execution_count": 29,
     "metadata": {},
     "output_type": "execute_result"
    }
   ],
   "source": [
    "rdd9.min()"
   ]
  },
  {
   "cell_type": "code",
   "execution_count": 30,
   "id": "6b55a625",
   "metadata": {},
   "outputs": [
    {
     "data": {
      "text/plain": [
       "47"
      ]
     },
     "execution_count": 30,
     "metadata": {},
     "output_type": "execute_result"
    }
   ],
   "source": [
    "rdd9.max()"
   ]
  },
  {
   "cell_type": "code",
   "execution_count": 31,
   "id": "746d22f0",
   "metadata": {},
   "outputs": [
    {
     "data": {
      "text/plain": [
       "13.74772708486752"
      ]
     },
     "execution_count": 31,
     "metadata": {},
     "output_type": "execute_result"
    }
   ],
   "source": [
    "rdd9.stdev()"
   ]
  },
  {
   "cell_type": "code",
   "execution_count": 32,
   "id": "1a0fd56f",
   "metadata": {},
   "outputs": [
    {
     "data": {
      "text/plain": [
       "189.0"
      ]
     },
     "execution_count": 32,
     "metadata": {},
     "output_type": "execute_result"
    }
   ],
   "source": [
    "rdd9.variance()"
   ]
  },
  {
   "cell_type": "code",
   "execution_count": 34,
   "id": "5a32cc56",
   "metadata": {},
   "outputs": [
    {
     "data": {
      "text/plain": [
       "12"
      ]
     },
     "execution_count": 34,
     "metadata": {},
     "output_type": "execute_result"
    }
   ],
   "source": [
    "def fun2 (a , b) :\n",
    "    return a + b\n",
    "fun2(5,7)"
   ]
  },
  {
   "cell_type": "markdown",
   "id": "a4d2b8b9",
   "metadata": {},
   "source": [
    "[1, 11, 13, 17, 19, 23, 29, 31, 37, 41, 43, 47]\n",
    "1 + 11 = 12 + 13 = 25 + 17 ==== 312"
   ]
  },
  {
   "cell_type": "code",
   "execution_count": 35,
   "id": "3ad2f252",
   "metadata": {},
   "outputs": [
    {
     "data": {
      "text/plain": [
       "312"
      ]
     },
     "execution_count": 35,
     "metadata": {},
     "output_type": "execute_result"
    }
   ],
   "source": [
    "rdd_reduce = rdd9.reduce(fun2)\n",
    "rdd_reduce"
   ]
  },
  {
   "cell_type": "code",
   "execution_count": 36,
   "id": "792ea2a0",
   "metadata": {},
   "outputs": [
    {
     "data": {
      "text/plain": [
       "['Egypt is a country in North Africa known for its ancient civilization and iconic monuments such as the Pyramids of Giza and the Sphinx. ',\n",
       " 'The capital city, Cairo, is the largest in the Arab world and home to the Nile River, the longest river in the world. ',\n",
       " 'Egypt has a rich cultural heritage blending Pharaonic, Greco-Roman, Islamic, and modern influences. ',\n",
       " 'Tourism, agriculture, and the Suez Canal are major contributors to its economy.']"
      ]
     },
     "execution_count": 36,
     "metadata": {},
     "output_type": "execute_result"
    }
   ],
   "source": [
    "rdd_file = sc.textFile(\"/data/egypt.txt\")\n",
    "rdd_file.collect()"
   ]
  },
  {
   "cell_type": "code",
   "execution_count": 37,
   "id": "09226b4b",
   "metadata": {},
   "outputs": [
    {
     "data": {
      "text/plain": [
       "4"
      ]
     },
     "execution_count": 37,
     "metadata": {},
     "output_type": "execute_result"
    }
   ],
   "source": [
    "rdd_file.count()"
   ]
  },
  {
   "cell_type": "code",
   "execution_count": 40,
   "id": "d47e34c1",
   "metadata": {},
   "outputs": [
    {
     "name": "stdout",
     "output_type": "stream",
     "text": [
      "[['Egypt', 'is', 'a', 'country', 'in', 'North', 'Africa', 'known', 'for', 'its', 'ancient', 'civilization', 'and', 'iconic', 'monuments', 'such', 'as', 'the', 'Pyramids', 'of', 'Giza', 'and', 'the', 'Sphinx.'], ['The', 'capital', 'city,', 'Cairo,', 'is', 'the', 'largest', 'in', 'the', 'Arab', 'world', 'and', 'home', 'to', 'the', 'Nile', 'River,', 'the', 'longest', 'river', 'in', 'the', 'world.'], ['Egypt', 'has', 'a', 'rich', 'cultural', 'heritage', 'blending', 'Pharaonic,', 'Greco-Roman,', 'Islamic,', 'and', 'modern', 'influences.'], ['Tourism,', 'agriculture,', 'and', 'the', 'Suez', 'Canal', 'are', 'major', 'contributors', 'to', 'its', 'economy.']]\n"
     ]
    }
   ],
   "source": [
    "rdd_splite  = rdd_file.map(lambda x : x.split())\n",
    "print(rdd_splite.collect())"
   ]
  },
  {
   "cell_type": "code",
   "execution_count": 41,
   "id": "69a00051",
   "metadata": {},
   "outputs": [
    {
     "data": {
      "text/plain": [
       "4"
      ]
     },
     "execution_count": 41,
     "metadata": {},
     "output_type": "execute_result"
    }
   ],
   "source": [
    "rdd_splite.count()"
   ]
  },
  {
   "cell_type": "code",
   "execution_count": 42,
   "id": "5525ff4a",
   "metadata": {},
   "outputs": [
    {
     "name": "stdout",
     "output_type": "stream",
     "text": [
      "['Egypt', 'is', 'a', 'country', 'in', 'North', 'Africa', 'known', 'for', 'its', 'ancient', 'civilization', 'and', 'iconic', 'monuments', 'such', 'as', 'the', 'Pyramids', 'of', 'Giza', 'and', 'the', 'Sphinx.', 'The', 'capital', 'city,', 'Cairo,', 'is', 'the', 'largest', 'in', 'the', 'Arab', 'world', 'and', 'home', 'to', 'the', 'Nile', 'River,', 'the', 'longest', 'river', 'in', 'the', 'world.', 'Egypt', 'has', 'a', 'rich', 'cultural', 'heritage', 'blending', 'Pharaonic,', 'Greco-Roman,', 'Islamic,', 'and', 'modern', 'influences.', 'Tourism,', 'agriculture,', 'and', 'the', 'Suez', 'Canal', 'are', 'major', 'contributors', 'to', 'its', 'economy.']\n"
     ]
    }
   ],
   "source": [
    "rdd_splite  = rdd_file.flatMap(lambda x : x.split())\n",
    "print(rdd_splite.collect())"
   ]
  },
  {
   "cell_type": "code",
   "execution_count": 43,
   "id": "b6f60802",
   "metadata": {},
   "outputs": [
    {
     "data": {
      "text/plain": [
       "72"
      ]
     },
     "execution_count": 43,
     "metadata": {},
     "output_type": "execute_result"
    }
   ],
   "source": [
    "rdd_splite.count()"
   ]
  },
  {
   "cell_type": "code",
   "execution_count": 44,
   "id": "c9144849",
   "metadata": {},
   "outputs": [
    {
     "name": "stdout",
     "output_type": "stream",
     "text": [
      "[True, False, True, False]\n"
     ]
    }
   ],
   "source": [
    "rdd_egypt = rdd_file.map(lambda line : 'Egypt' in line) \n",
    "print(rdd_egypt.collect())"
   ]
  },
  {
   "cell_type": "code",
   "execution_count": 46,
   "id": "47662928",
   "metadata": {},
   "outputs": [
    {
     "data": {
      "text/plain": [
       "['Egypt is a country in North Africa known for its ancient civilization and iconic monuments such as the Pyramids of Giza and the Sphinx. ',\n",
       " 'Egypt has a rich cultural heritage blending Pharaonic, Greco-Roman, Islamic, and modern influences. ']"
      ]
     },
     "execution_count": 46,
     "metadata": {},
     "output_type": "execute_result"
    }
   ],
   "source": [
    "rdd_egypt = rdd_file.filter(lambda line : 'Egypt' in line) \n",
    "rdd_egypt.collect()"
   ]
  },
  {
   "cell_type": "code",
   "execution_count": 50,
   "id": "620f090d",
   "metadata": {},
   "outputs": [
    {
     "data": {
      "text/plain": [
       "72"
      ]
     },
     "execution_count": 50,
     "metadata": {},
     "output_type": "execute_result"
    }
   ],
   "source": [
    "rdd_splite.count()"
   ]
  },
  {
   "cell_type": "code",
   "execution_count": 53,
   "id": "acf93a01",
   "metadata": {},
   "outputs": [
    {
     "data": {
      "text/plain": [
       "55"
      ]
     },
     "execution_count": 53,
     "metadata": {},
     "output_type": "execute_result"
    }
   ],
   "source": [
    "stopword = ['the', 'in', 'or' , 'at' , 'on', 'and' , 'for']\n",
    "rdd_splite_withoutSW = rdd_splite.filter(lambda word : word not in stopword)\n",
    "rdd_splite_withoutSW.count()"
   ]
  },
  {
   "cell_type": "code",
   "execution_count": 54,
   "id": "6ea23ab6",
   "metadata": {},
   "outputs": [
    {
     "data": {
      "text/plain": [
       "55"
      ]
     },
     "execution_count": 54,
     "metadata": {},
     "output_type": "execute_result"
    }
   ],
   "source": [
    "rdd_splite.filter(lambda word : word not in stopword).count()"
   ]
  },
  {
   "cell_type": "code",
   "execution_count": null,
   "id": "d83773c4",
   "metadata": {},
   "outputs": [],
   "source": [
    "1. Create an RDD from a list of numbers (1,30)\n",
    "2. Find count of the Even number \n",
    "3. Find the maximum number\n",
    "4. Filter only numbers greater than 15.\n",
    "5. Multiply each number by 2 and show the results"
   ]
  },
  {
   "cell_type": "code",
   "execution_count": null,
   "id": "208b6e80",
   "metadata": {},
   "outputs": [],
   "source": [
    "rdd_nums = sc.parallelize(np.arange(1,30))\n",
    "rdd_nums.filter(lambda x : x % 2 == 0).count()\n",
    "rdd_nums.max()\n",
    "rdd_nums.filter(lambda x : x > 15).collect()\n",
    "rdd_nums.map(lambda x : x * 2).collect()"
   ]
  },
  {
   "cell_type": "code",
   "execution_count": 60,
   "id": "2dd2d8f4",
   "metadata": {},
   "outputs": [],
   "source": [
    "student_data = [(\"Ahmed\", 20), (\"Mona\", 25), (\"Mona\", 30), (\"Shahd\", 19), (\"Shahd\", 25), (\"Khaled\", 13)]"
   ]
  },
  {
   "cell_type": "code",
   "execution_count": 66,
   "id": "494bac45",
   "metadata": {},
   "outputs": [
    {
     "name": "stdout",
     "output_type": "stream",
     "text": [
      "+------+---+\n",
      "|  name|age|\n",
      "+------+---+\n",
      "| Ahmed| 20|\n",
      "|  Mona| 25|\n",
      "|  Mona| 30|\n",
      "| Shahd| 19|\n",
      "| Shahd| 25|\n",
      "|Khaled| 13|\n",
      "+------+---+\n",
      "\n"
     ]
    }
   ],
   "source": [
    "df = spark.createDataFrame(student_data, [\"name\", \"age\"])\n",
    "df.show()"
   ]
  },
  {
   "cell_type": "code",
   "execution_count": 67,
   "id": "a9ec34fb",
   "metadata": {},
   "outputs": [
    {
     "name": "stdout",
     "output_type": "stream",
     "text": [
      "root\n",
      " |-- name: string (nullable = true)\n",
      " |-- age: long (nullable = true)\n",
      "\n"
     ]
    }
   ],
   "source": [
    "df.printSchema()"
   ]
  },
  {
   "cell_type": "code",
   "execution_count": 68,
   "id": "872221bb",
   "metadata": {},
   "outputs": [
    {
     "name": "stdout",
     "output_type": "stream",
     "text": [
      "+------+--------+\n",
      "|  name|avg(age)|\n",
      "+------+--------+\n",
      "| Ahmed|    20.0|\n",
      "|  Mona|    27.5|\n",
      "| Shahd|    22.0|\n",
      "|Khaled|    13.0|\n",
      "+------+--------+\n",
      "\n"
     ]
    }
   ],
   "source": [
    "df_groups = df.groupBy(\"name\").avg(\"age\")\n",
    "df_groups.show()"
   ]
  },
  {
   "cell_type": "code",
   "execution_count": 71,
   "id": "8bd7b219",
   "metadata": {},
   "outputs": [
    {
     "name": "stdout",
     "output_type": "stream",
     "text": [
      "+------+---+\n",
      "|  name|age|\n",
      "+------+---+\n",
      "| Ahmed| 20|\n",
      "|  Mona| 25|\n",
      "|  Mona| 30|\n",
      "| Shahd| 19|\n",
      "| Shahd| 25|\n",
      "|Khaled| 13|\n",
      "+------+---+\n",
      "\n"
     ]
    }
   ],
   "source": [
    "df_names = df.select(\"name\",'age')\n",
    "df_names.show()"
   ]
  },
  {
   "cell_type": "code",
   "execution_count": 73,
   "id": "d09a43ed",
   "metadata": {},
   "outputs": [],
   "source": [
    "import pyspark.sql.functions as f"
   ]
  },
  {
   "cell_type": "code",
   "execution_count": 81,
   "id": "20007d6f",
   "metadata": {},
   "outputs": [
    {
     "name": "stdout",
     "output_type": "stream",
     "text": [
      "+------+-----------+-------+-------+-----+\n",
      "|  name|Average Age|Max Age|Min Age|Count|\n",
      "+------+-----------+-------+-------+-----+\n",
      "| Ahmed|       20.0|     20|     20|    1|\n",
      "|  Mona|       27.5|     30|     25|    2|\n",
      "| Shahd|       22.0|     25|     19|    2|\n",
      "|Khaled|       13.0|     13|     13|    1|\n",
      "+------+-----------+-------+-------+-----+\n",
      "\n"
     ]
    }
   ],
   "source": [
    "df_groups = df.groupBy(\"name\").agg(f.avg(f.col('age')).alias('Average Age')\n",
    "                                   , f.max(f.col('age')).alias('Max Age')\n",
    "                                   , f.min(f.col('age')).alias('Min Age') ,\n",
    "                                   f.count(f.col('age')).alias('Count'))\n",
    "df_groups.show()"
   ]
  },
  {
   "cell_type": "code",
   "execution_count": 82,
   "id": "385913fc",
   "metadata": {},
   "outputs": [
    {
     "name": "stdout",
     "output_type": "stream",
     "text": [
      "+-----+-----------+-------+-------+-----+\n",
      "| name|Average Age|Max Age|Min Age|Count|\n",
      "+-----+-----------+-------+-------+-----+\n",
      "| Mona|       27.5|     30|     25|    2|\n",
      "|Shahd|       22.0|     25|     19|    2|\n",
      "+-----+-----------+-------+-------+-----+\n",
      "\n"
     ]
    }
   ],
   "source": [
    "df_groups = df.groupBy(\"name\").agg(f.avg(f.col('age')).alias('Average Age')\n",
    "                                   , f.max(f.col('age')).alias('Max Age')\n",
    "                                   , f.min(f.col('age')).alias('Min Age') ,\n",
    "                                   f.count(f.col('age')).alias('Count')).where(f.col('Count') > 1)\n",
    "df_groups.show()"
   ]
  },
  {
   "cell_type": "code",
   "execution_count": 83,
   "id": "50df3eb2",
   "metadata": {},
   "outputs": [
    {
     "name": "stdout",
     "output_type": "stream",
     "text": [
      "+----+------+\n",
      "| age|  name|\n",
      "+----+------+\n",
      "|NULL| Ahmed|\n",
      "|  30|  Mona|\n",
      "|  19| Shahd|\n",
      "|  19| Shahd|\n",
      "|  25|Khaled|\n",
      "+----+------+\n",
      "\n"
     ]
    }
   ],
   "source": [
    "df_people = spark.read.json(\"/data/people.json\")\n",
    "df_people.show()"
   ]
  },
  {
   "cell_type": "code",
   "execution_count": 85,
   "id": "63bb8137",
   "metadata": {},
   "outputs": [
    {
     "name": "stdout",
     "output_type": "stream",
     "text": [
      "+-----+-------+-----+\n",
      "|   Id|   Name|Sales|\n",
      "+-----+-------+-----+\n",
      "| emp1|  Ahmed| NULL|\n",
      "| emp2|   Sara|  210|\n",
      "| emp3|   NULL|  345|\n",
      "| emp4|   Hend| NULL|\n",
      "| emp5|Mostafa|  380|\n",
      "| emp6|   NULL|  150|\n",
      "| emp7|   Omar|  290|\n",
      "| emp8| Mariam| NULL|\n",
      "| emp9|    Ali|  500|\n",
      "|emp10|  Salma|  275|\n",
      "+-----+-------+-----+\n",
      "\n"
     ]
    }
   ],
   "source": [
    "df_employee = spark.read.csv(\"/data/employees.csv\" , header = True)\n",
    "df_employee.show()"
   ]
  },
  {
   "cell_type": "code",
   "execution_count": 86,
   "id": "81392141",
   "metadata": {},
   "outputs": [
    {
     "name": "stdout",
     "output_type": "stream",
     "text": [
      "root\n",
      " |-- Id: string (nullable = true)\n",
      " |-- Name: string (nullable = true)\n",
      " |-- Sales: string (nullable = true)\n",
      "\n"
     ]
    }
   ],
   "source": [
    "df_employee.printSchema()"
   ]
  },
  {
   "cell_type": "code",
   "execution_count": 90,
   "id": "00c3012e",
   "metadata": {},
   "outputs": [
    {
     "name": "stdout",
     "output_type": "stream",
     "text": [
      "+-----+-------------+-----+\n",
      "|   Id|Employee_name|Sales|\n",
      "+-----+-------------+-----+\n",
      "| emp1|        Ahmed| NULL|\n",
      "| emp2|         Sara|  210|\n",
      "| emp3|         NULL|  345|\n",
      "| emp4|         Hend| NULL|\n",
      "| emp5|      Mostafa|  380|\n",
      "| emp6|         NULL|  150|\n",
      "| emp7|         Omar|  290|\n",
      "| emp8|       Mariam| NULL|\n",
      "| emp9|          Ali|  500|\n",
      "|emp10|        Salma|  275|\n",
      "+-----+-------------+-----+\n",
      "\n"
     ]
    }
   ],
   "source": [
    "schema = 'Id string, Employee_name string, Sales int'\n",
    "df_employee = spark.read.csv(\"/data/employees.csv\" , schema, header= False)\n",
    "df_employee.show()"
   ]
  },
  {
   "cell_type": "code",
   "execution_count": 88,
   "id": "385dca46",
   "metadata": {},
   "outputs": [
    {
     "name": "stdout",
     "output_type": "stream",
     "text": [
      "root\n",
      " |-- Id: string (nullable = true)\n",
      " |-- Employee_name: string (nullable = true)\n",
      " |-- Sales: integer (nullable = true)\n",
      "\n"
     ]
    }
   ],
   "source": [
    "df_employee.printSchema()"
   ]
  },
  {
   "cell_type": "code",
   "execution_count": null,
   "id": "63263697",
   "metadata": {},
   "outputs": [
    {
     "name": "stdout",
     "output_type": "stream",
     "text": [
      "+-----+-------------+-----+\n",
      "|   Id|Employee_name|Sales|\n",
      "+-----+-------------+-----+\n",
      "| emp3|         NULL|  345|\n",
      "| emp6|         NULL|  150|\n",
      "| emp1|        Ahmed| NULL|\n",
      "| emp9|          Ali|  500|\n",
      "| emp4|         Hend| NULL|\n",
      "| emp8|       Mariam| NULL|\n",
      "| emp5|      Mostafa|  380|\n",
      "| emp7|         Omar|  290|\n",
      "|emp10|        Salma|  275|\n",
      "| emp2|         Sara|  210|\n",
      "+-----+-------------+-----+\n",
      "\n"
     ]
    }
   ],
   "source": [
    "df_employee.sort('Employee_name' ).show()"
   ]
  },
  {
   "cell_type": "code",
   "execution_count": 92,
   "id": "1089aa09",
   "metadata": {},
   "outputs": [
    {
     "name": "stdout",
     "output_type": "stream",
     "text": [
      "+-----+-------------+-----+\n",
      "|   Id|Employee_name|Sales|\n",
      "+-----+-------------+-----+\n",
      "| emp2|         Sara|  210|\n",
      "|emp10|        Salma|  275|\n",
      "| emp7|         Omar|  290|\n",
      "| emp5|      Mostafa|  380|\n",
      "| emp8|       Mariam| NULL|\n",
      "| emp4|         Hend| NULL|\n",
      "| emp9|          Ali|  500|\n",
      "| emp1|        Ahmed| NULL|\n",
      "| emp3|         NULL|  345|\n",
      "| emp6|         NULL|  150|\n",
      "+-----+-------------+-----+\n",
      "\n"
     ]
    }
   ],
   "source": [
    "df_employee.sort('Employee_name', ascending = False ).show()"
   ]
  },
  {
   "cell_type": "code",
   "execution_count": 93,
   "id": "3a79d653",
   "metadata": {},
   "outputs": [
    {
     "name": "stdout",
     "output_type": "stream",
     "text": [
      "+-----+-------------+-----+\n",
      "|   Id|Employee_name|Sales|\n",
      "+-----+-------------+-----+\n",
      "| emp6|         NULL|  150|\n",
      "| emp3|         NULL|  345|\n",
      "| emp1|        Ahmed| NULL|\n",
      "| emp9|          Ali|  500|\n",
      "| emp4|         Hend| NULL|\n",
      "| emp8|       Mariam| NULL|\n",
      "| emp5|      Mostafa|  380|\n",
      "| emp7|         Omar|  290|\n",
      "|emp10|        Salma|  275|\n",
      "| emp2|         Sara|  210|\n",
      "+-----+-------------+-----+\n",
      "\n"
     ]
    }
   ],
   "source": [
    "df_employee.sort('Employee_name', 'Sales').show()"
   ]
  },
  {
   "cell_type": "code",
   "execution_count": 94,
   "id": "06211faa",
   "metadata": {},
   "outputs": [
    {
     "name": "stdout",
     "output_type": "stream",
     "text": [
      "+-----+-------------+\n",
      "|   ID|Employee_name|\n",
      "+-----+-------------+\n",
      "| emp1|        Ahmed|\n",
      "| emp2|         Sara|\n",
      "| emp3|         NULL|\n",
      "| emp4|         Hend|\n",
      "| emp5|      Mostafa|\n",
      "| emp6|         NULL|\n",
      "| emp7|         Omar|\n",
      "| emp8|       Mariam|\n",
      "| emp9|          Ali|\n",
      "|emp10|        Salma|\n",
      "+-----+-------------+\n",
      "\n"
     ]
    }
   ],
   "source": [
    "df_employees_ifno = df_employee.select('ID', 'Employee_name').show()"
   ]
  },
  {
   "cell_type": "code",
   "execution_count": 95,
   "id": "6276fff6",
   "metadata": {},
   "outputs": [
    {
     "name": "stdout",
     "output_type": "stream",
     "text": [
      "+-----+-------------+-----+-----------+\n",
      "|   Id|Employee_name|Sales| Name_Sales|\n",
      "+-----+-------------+-----+-----------+\n",
      "| emp1|        Ahmed| NULL|  emp1Ahmed|\n",
      "| emp2|         Sara|  210|   emp2Sara|\n",
      "| emp3|         NULL|  345|       NULL|\n",
      "| emp4|         Hend| NULL|   emp4Hend|\n",
      "| emp5|      Mostafa|  380|emp5Mostafa|\n",
      "| emp6|         NULL|  150|       NULL|\n",
      "| emp7|         Omar|  290|   emp7Omar|\n",
      "| emp8|       Mariam| NULL| emp8Mariam|\n",
      "| emp9|          Ali|  500|    emp9Ali|\n",
      "|emp10|        Salma|  275| emp10Salma|\n",
      "+-----+-------------+-----+-----------+\n",
      "\n"
     ]
    }
   ],
   "source": [
    "df_employees_concat = df_employee.withColumn('Name_Sales', f.concat('id', 'Employee_name'))\n",
    "df_employees_concat.show()"
   ]
  },
  {
   "cell_type": "code",
   "execution_count": 99,
   "id": "1c3d4ddf",
   "metadata": {},
   "outputs": [
    {
     "name": "stdout",
     "output_type": "stream",
     "text": [
      "+-----+-------------+-----+------------+\n",
      "|   Id|Employee_name|Sales|  Name_Sales|\n",
      "+-----+-------------+-----+------------+\n",
      "| emp1|        Ahmed| NULL|  emp1_Ahmed|\n",
      "| emp2|         Sara|  210|   emp2_Sara|\n",
      "| emp3|         NULL|  345|        emp3|\n",
      "| emp4|         Hend| NULL|   emp4_Hend|\n",
      "| emp5|      Mostafa|  380|emp5_Mostafa|\n",
      "| emp6|         NULL|  150|        emp6|\n",
      "| emp7|         Omar|  290|   emp7_Omar|\n",
      "| emp8|       Mariam| NULL| emp8_Mariam|\n",
      "| emp9|          Ali|  500|    emp9_Ali|\n",
      "|emp10|        Salma|  275| emp10_Salma|\n",
      "+-----+-------------+-----+------------+\n",
      "\n"
     ]
    }
   ],
   "source": [
    "df_employees_concat = df_employee.withColumn('Name_Sales', f.concat_ws('_', 'id', 'Employee_name'))\n",
    "df_employees_concat.show()"
   ]
  },
  {
   "cell_type": "code",
   "execution_count": 100,
   "id": "01858e89",
   "metadata": {},
   "outputs": [
    {
     "name": "stdout",
     "output_type": "stream",
     "text": [
      "+-----+-------------+-----+\n",
      "|   Id|Employee_name|Sales|\n",
      "+-----+-------------+-----+\n",
      "| emp1|        Ahmed| NULL|\n",
      "| emp2|         Sara|  210|\n",
      "| emp3|         NULL|  345|\n",
      "| emp4|         Hend| NULL|\n",
      "| emp5|      Mostafa|  380|\n",
      "| emp6|         NULL|  150|\n",
      "| emp7|         Omar|  290|\n",
      "| emp8|       Mariam| NULL|\n",
      "| emp9|          Ali|  500|\n",
      "|emp10|        Salma|  275|\n",
      "+-----+-------------+-----+\n",
      "\n"
     ]
    }
   ],
   "source": [
    "df_employee.show()"
   ]
  },
  {
   "cell_type": "code",
   "execution_count": 101,
   "id": "110612b8",
   "metadata": {},
   "outputs": [
    {
     "name": "stdout",
     "output_type": "stream",
     "text": [
      "+-----+-------------+-----+\n",
      "|   Id|Employee_name|Sales|\n",
      "+-----+-------------+-----+\n",
      "| emp2|         Sara|  210|\n",
      "| emp5|      Mostafa|  380|\n",
      "| emp7|         Omar|  290|\n",
      "| emp9|          Ali|  500|\n",
      "|emp10|        Salma|  275|\n",
      "+-----+-------------+-----+\n",
      "\n"
     ]
    }
   ],
   "source": [
    "df_employee.na.drop().show()"
   ]
  },
  {
   "cell_type": "code",
   "execution_count": 102,
   "id": "ff0ed054",
   "metadata": {},
   "outputs": [
    {
     "name": "stdout",
     "output_type": "stream",
     "text": [
      "+-----+-------------+-----+\n",
      "|   Id|Employee_name|Sales|\n",
      "+-----+-------------+-----+\n",
      "| emp2|         Sara|  210|\n",
      "| emp5|      Mostafa|  380|\n",
      "| emp7|         Omar|  290|\n",
      "| emp9|          Ali|  500|\n",
      "|emp10|        Salma|  275|\n",
      "+-----+-------------+-----+\n",
      "\n"
     ]
    }
   ],
   "source": [
    "df_employee.na.drop('any').show()"
   ]
  },
  {
   "cell_type": "code",
   "execution_count": 104,
   "id": "2be69861",
   "metadata": {},
   "outputs": [
    {
     "name": "stdout",
     "output_type": "stream",
     "text": [
      "+-----+-------------+-----+\n",
      "|   Id|Employee_name|Sales|\n",
      "+-----+-------------+-----+\n",
      "| emp1|        Ahmed| NULL|\n",
      "| emp2|         Sara|  210|\n",
      "| emp3|         NULL|  345|\n",
      "| emp4|         Hend| NULL|\n",
      "| emp5|      Mostafa|  380|\n",
      "| emp6|         NULL|  150|\n",
      "| emp7|         Omar|  290|\n",
      "| emp8|       Mariam| NULL|\n",
      "| emp9|          Ali|  500|\n",
      "|emp10|        Salma|  275|\n",
      "+-----+-------------+-----+\n",
      "\n"
     ]
    }
   ],
   "source": [
    "df_employee.na.drop('all').show()"
   ]
  },
  {
   "cell_type": "code",
   "execution_count": 107,
   "id": "a10412dc",
   "metadata": {},
   "outputs": [
    {
     "name": "stdout",
     "output_type": "stream",
     "text": [
      "+-----+-------------+-----+\n",
      "|   Id|Employee_name|Sales|\n",
      "+-----+-------------+-----+\n",
      "| emp2|         Sara|  210|\n",
      "| emp5|      Mostafa|  380|\n",
      "| emp7|         Omar|  290|\n",
      "| emp9|          Ali|  500|\n",
      "|emp10|        Salma|  275|\n",
      "+-----+-------------+-----+\n",
      "\n"
     ]
    }
   ],
   "source": [
    "df_employee.na.drop(thresh=3).show()"
   ]
  },
  {
   "cell_type": "code",
   "execution_count": 119,
   "id": "b47965bd",
   "metadata": {},
   "outputs": [
    {
     "data": {
      "text/plain": [
       "307.14285714285717"
      ]
     },
     "execution_count": 119,
     "metadata": {},
     "output_type": "execute_result"
    }
   ],
   "source": [
    "df_avg = df_employee.select (f.avg('Sales'))\n",
    "sales_avg = df_avg.collect()[0][0]\n",
    "sales_avg"
   ]
  },
  {
   "cell_type": "code",
   "execution_count": 118,
   "id": "58036dae",
   "metadata": {},
   "outputs": [
    {
     "name": "stdout",
     "output_type": "stream",
     "text": [
      "+-----+-------------+-----+\n",
      "|   Id|Employee_name|Sales|\n",
      "+-----+-------------+-----+\n",
      "| emp1|        Ahmed|  307|\n",
      "| emp2|         Sara|  210|\n",
      "| emp3|      Unknown|  345|\n",
      "| emp4|         Hend|  307|\n",
      "| emp5|      Mostafa|  380|\n",
      "| emp6|      Unknown|  150|\n",
      "| emp7|         Omar|  290|\n",
      "| emp8|       Mariam|  307|\n",
      "| emp9|          Ali|  500|\n",
      "|emp10|        Salma|  275|\n",
      "+-----+-------------+-----+\n",
      "\n"
     ]
    }
   ],
   "source": [
    "df_employee.fillna(\n",
    "    {\n",
    "        'Employee_name' : 'Unknown',\n",
    "        'Sales' : sales_avg\n",
    "    }\n",
    ").show()"
   ]
  }
 ],
 "metadata": {
  "kernelspec": {
   "display_name": "Python 3 (ipykernel)",
   "language": "python",
   "name": "python3"
  },
  "language_info": {
   "codemirror_mode": {
    "name": "ipython",
    "version": 3
   },
   "file_extension": ".py",
   "mimetype": "text/x-python",
   "name": "python",
   "nbconvert_exporter": "python",
   "pygments_lexer": "ipython3",
   "version": "3.11.6"
  }
 },
 "nbformat": 4,
 "nbformat_minor": 5
}
